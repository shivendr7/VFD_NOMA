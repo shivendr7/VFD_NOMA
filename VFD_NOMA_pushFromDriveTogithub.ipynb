{
  "nbformat": 4,
  "nbformat_minor": 0,
  "metadata": {
    "colab": {
      "name": "VFD_NOMA_pushFromDriveTogithub.ipynb",
      "provenance": [],
      "mount_file_id": "19mhNH3WMCOQjGFOTid1hpSRUpFHclCry",
      "authorship_tag": "ABX9TyN3c2s1meNVm6O/nqUxWsd/",
      "include_colab_link": true
    },
    "kernelspec": {
      "name": "python3",
      "display_name": "Python 3"
    },
    "language_info": {
      "name": "python"
    }
  },
  "cells": [
    {
      "cell_type": "markdown",
      "metadata": {
        "id": "view-in-github",
        "colab_type": "text"
      },
      "source": [
        "<a href=\"https://colab.research.google.com/github/shivendr7/VFD_NOMA/blob/main/VFD_NOMA_pushFromDriveTogithub.ipynb\" target=\"_parent\"><img src=\"https://colab.research.google.com/assets/colab-badge.svg\" alt=\"Open In Colab\"/></a>"
      ]
    },
    {
      "cell_type": "code",
      "metadata": {
        "id": "RFfjljhMP0QP"
      },
      "source": [
        "import pandas as pd"
      ],
      "execution_count": null,
      "outputs": []
    },
    {
      "cell_type": "code",
      "metadata": {
        "id": "MEabkFGbQO2t"
      },
      "source": [
        "df=pd.read_csv('drive/MyDrive/Data_P1_100samples.csv')"
      ],
      "execution_count": null,
      "outputs": []
    },
    {
      "cell_type": "code",
      "metadata": {
        "colab": {
          "base_uri": "https://localhost:8080/",
          "height": 203
        },
        "id": "J7YvpmkVQmGF",
        "outputId": "e1cab11c-61ef-446f-b15c-171ba243bf16"
      },
      "source": [
        "df.head()"
      ],
      "execution_count": null,
      "outputs": [
        {
          "output_type": "execute_result",
          "data": {
            "text/html": [
              "<div>\n",
              "<style scoped>\n",
              "    .dataframe tbody tr th:only-of-type {\n",
              "        vertical-align: middle;\n",
              "    }\n",
              "\n",
              "    .dataframe tbody tr th {\n",
              "        vertical-align: top;\n",
              "    }\n",
              "\n",
              "    .dataframe thead th {\n",
              "        text-align: right;\n",
              "    }\n",
              "</style>\n",
              "<table border=\"1\" class=\"dataframe\">\n",
              "  <thead>\n",
              "    <tr style=\"text-align: right;\">\n",
              "      <th></th>\n",
              "      <th>dsr1</th>\n",
              "      <th>dsr2</th>\n",
              "      <th>dr1r2</th>\n",
              "      <th>Pr2</th>\n",
              "      <th>msr1</th>\n",
              "      <th>msr2</th>\n",
              "      <th>mr1D</th>\n",
              "      <th>mr2D</th>\n",
              "      <th>Zr1r2</th>\n",
              "      <th>pr1min</th>\n",
              "    </tr>\n",
              "  </thead>\n",
              "  <tbody>\n",
              "    <tr>\n",
              "      <th>0</th>\n",
              "      <td>0.452431</td>\n",
              "      <td>0.252187</td>\n",
              "      <td>0.284945</td>\n",
              "      <td>0.594583</td>\n",
              "      <td>2</td>\n",
              "      <td>2</td>\n",
              "      <td>1</td>\n",
              "      <td>3</td>\n",
              "      <td>0.190011</td>\n",
              "      <td>0.2157</td>\n",
              "    </tr>\n",
              "    <tr>\n",
              "      <th>1</th>\n",
              "      <td>0.687049</td>\n",
              "      <td>0.317395</td>\n",
              "      <td>0.675294</td>\n",
              "      <td>0.100550</td>\n",
              "      <td>2</td>\n",
              "      <td>2</td>\n",
              "      <td>1</td>\n",
              "      <td>3</td>\n",
              "      <td>0.275780</td>\n",
              "      <td>0.3367</td>\n",
              "    </tr>\n",
              "    <tr>\n",
              "      <th>2</th>\n",
              "      <td>0.798589</td>\n",
              "      <td>0.891947</td>\n",
              "      <td>0.123375</td>\n",
              "      <td>0.470033</td>\n",
              "      <td>3</td>\n",
              "      <td>1</td>\n",
              "      <td>3</td>\n",
              "      <td>3</td>\n",
              "      <td>0.323690</td>\n",
              "      <td>0.0100</td>\n",
              "    </tr>\n",
              "    <tr>\n",
              "      <th>3</th>\n",
              "      <td>0.305879</td>\n",
              "      <td>0.533535</td>\n",
              "      <td>0.728435</td>\n",
              "      <td>0.243057</td>\n",
              "      <td>1</td>\n",
              "      <td>2</td>\n",
              "      <td>3</td>\n",
              "      <td>3</td>\n",
              "      <td>0.346765</td>\n",
              "      <td>0.0265</td>\n",
              "    </tr>\n",
              "    <tr>\n",
              "      <th>4</th>\n",
              "      <td>0.757938</td>\n",
              "      <td>0.594390</td>\n",
              "      <td>0.615343</td>\n",
              "      <td>0.833659</td>\n",
              "      <td>2</td>\n",
              "      <td>1</td>\n",
              "      <td>3</td>\n",
              "      <td>1</td>\n",
              "      <td>0.312788</td>\n",
              "      <td>0.0100</td>\n",
              "    </tr>\n",
              "  </tbody>\n",
              "</table>\n",
              "</div>"
            ],
            "text/plain": [
              "       dsr1      dsr2     dr1r2       Pr2  ...  mr1D  mr2D     Zr1r2  pr1min\n",
              "0  0.452431  0.252187  0.284945  0.594583  ...     1     3  0.190011  0.2157\n",
              "1  0.687049  0.317395  0.675294  0.100550  ...     1     3  0.275780  0.3367\n",
              "2  0.798589  0.891947  0.123375  0.470033  ...     3     3  0.323690  0.0100\n",
              "3  0.305879  0.533535  0.728435  0.243057  ...     3     3  0.346765  0.0265\n",
              "4  0.757938  0.594390  0.615343  0.833659  ...     3     1  0.312788  0.0100\n",
              "\n",
              "[5 rows x 10 columns]"
            ]
          },
          "metadata": {
            "tags": []
          },
          "execution_count": 4
        }
      ]
    },
    {
      "cell_type": "code",
      "metadata": {
        "id": "J8p6t0NYVoU5"
      },
      "source": [
        "uname = \"darkshadow013\"\n",
        "!git config --global user.email 'shivendra12.07.98@gmail.com'\n",
        "!git config --global user.name 'shivendr7'"
      ],
      "execution_count": null,
      "outputs": []
    },
    {
      "cell_type": "code",
      "metadata": {
        "colab": {
          "base_uri": "https://localhost:8080/"
        },
        "id": "BLI3ElSUVxps",
        "outputId": "03068f93-ae70-4972-ebea-72b2a9ce4704"
      },
      "source": [
        "#Make a clone of github REPO\n",
        "!git clone https://shivendr7:<github_password>@github.com/shivendr7/VFD_NOMA"
      ],
      "execution_count": null,
      "outputs": [
        {
          "output_type": "stream",
          "text": [
            "Cloning into 'VFD_NOMA'...\n",
            "remote: Enumerating objects: 3, done.\u001b[K\n",
            "remote: Counting objects: 100% (3/3), done.\u001b[K\n",
            "remote: Compressing objects: 100% (2/2), done.\u001b[K\n",
            "remote: Total 3 (delta 0), reused 0 (delta 0), pack-reused 0\u001b[K\n",
            "Unpacking objects: 100% (3/3), done.\n"
          ],
          "name": "stdout"
        }
      ]
    },
    {
      "cell_type": "code",
      "metadata": {
        "id": "3Mc2ayMAV99S"
      },
      "source": [
        "#Copy file from either google drive after mounting using file browser\n",
        "!cp drive/MyDrive/Data_P1_100samples.csv /content/VFD_NOMA"
      ],
      "execution_count": null,
      "outputs": []
    },
    {
      "cell_type": "code",
      "metadata": {
        "colab": {
          "base_uri": "https://localhost:8080/"
        },
        "id": "_oEwQihfbUAJ",
        "outputId": "8d4c3377-e784-4b52-cffb-3b70c99b52d9"
      },
      "source": [
        "%cd VFD_NOMA"
      ],
      "execution_count": null,
      "outputs": [
        {
          "output_type": "stream",
          "text": [
            "/content/VFD_NOMA\n"
          ],
          "name": "stdout"
        }
      ]
    },
    {
      "cell_type": "code",
      "metadata": {
        "colab": {
          "base_uri": "https://localhost:8080/"
        },
        "id": "IpAp_iCgat6G",
        "outputId": "6dbbbd3a-ed79-4773-f8a5-79b648f8ae6a"
      },
      "source": [
        "!git add Data_P1_100samples.csv\n",
        "!git commit -m 'commit msg'\n",
        "!git push"
      ],
      "execution_count": null,
      "outputs": [
        {
          "output_type": "stream",
          "text": [
            "[main a186c08] commit msg\n",
            " 1 file changed, 101 insertions(+)\n",
            " create mode 100644 Data_P1_100samples.csv\n",
            "Counting objects: 3, done.\n",
            "Delta compression using up to 2 threads.\n",
            "Compressing objects: 100% (3/3), done.\n",
            "Writing objects: 100% (3/3), 3.58 KiB | 3.58 MiB/s, done.\n",
            "Total 3 (delta 0), reused 0 (delta 0)\n",
            "To https://github.com/shivendr7/VFD_NOMA\n",
            "   9a15292..a186c08  main -> main\n"
          ],
          "name": "stdout"
        }
      ]
    },
    {
      "cell_type": "code",
      "metadata": {
        "id": "HYVqmNg8eNCs"
      },
      "source": [
        "import pandas as pd"
      ],
      "execution_count": 1,
      "outputs": []
    },
    {
      "cell_type": "code",
      "metadata": {
        "id": "Cg3FezwfePSB"
      },
      "source": [
        "df=pd.read_csv('drive/MyDrive/Data_P1_100000samples.csv')"
      ],
      "execution_count": 2,
      "outputs": []
    },
    {
      "cell_type": "code",
      "metadata": {
        "colab": {
          "base_uri": "https://localhost:8080/",
          "height": 203
        },
        "id": "7jZMrxnJeRWA",
        "outputId": "06868ef7-f2df-48d6-9aa1-de73db728612"
      },
      "source": [
        "df.head()"
      ],
      "execution_count": 3,
      "outputs": [
        {
          "output_type": "execute_result",
          "data": {
            "text/html": [
              "<div>\n",
              "<style scoped>\n",
              "    .dataframe tbody tr th:only-of-type {\n",
              "        vertical-align: middle;\n",
              "    }\n",
              "\n",
              "    .dataframe tbody tr th {\n",
              "        vertical-align: top;\n",
              "    }\n",
              "\n",
              "    .dataframe thead th {\n",
              "        text-align: right;\n",
              "    }\n",
              "</style>\n",
              "<table border=\"1\" class=\"dataframe\">\n",
              "  <thead>\n",
              "    <tr style=\"text-align: right;\">\n",
              "      <th></th>\n",
              "      <th>dsr1</th>\n",
              "      <th>dsr2</th>\n",
              "      <th>dr1r2</th>\n",
              "      <th>Pr2</th>\n",
              "      <th>msr1</th>\n",
              "      <th>msr2</th>\n",
              "      <th>mr1D</th>\n",
              "      <th>mr2D</th>\n",
              "      <th>Zr1r2</th>\n",
              "      <th>pr1min</th>\n",
              "    </tr>\n",
              "  </thead>\n",
              "  <tbody>\n",
              "    <tr>\n",
              "      <th>0</th>\n",
              "      <td>0.16891</td>\n",
              "      <td>0.99012</td>\n",
              "      <td>0.969010</td>\n",
              "      <td>0.54219</td>\n",
              "      <td>1</td>\n",
              "      <td>1</td>\n",
              "      <td>1</td>\n",
              "      <td>3</td>\n",
              "      <td>0.118850</td>\n",
              "      <td>0.0956</td>\n",
              "    </tr>\n",
              "    <tr>\n",
              "      <th>1</th>\n",
              "      <td>0.69591</td>\n",
              "      <td>0.64120</td>\n",
              "      <td>0.042443</td>\n",
              "      <td>0.88995</td>\n",
              "      <td>3</td>\n",
              "      <td>1</td>\n",
              "      <td>1</td>\n",
              "      <td>1</td>\n",
              "      <td>0.164750</td>\n",
              "      <td>0.0010</td>\n",
              "    </tr>\n",
              "    <tr>\n",
              "      <th>2</th>\n",
              "      <td>0.70607</td>\n",
              "      <td>0.72167</td>\n",
              "      <td>0.116860</td>\n",
              "      <td>0.99005</td>\n",
              "      <td>3</td>\n",
              "      <td>1</td>\n",
              "      <td>2</td>\n",
              "      <td>1</td>\n",
              "      <td>0.005106</td>\n",
              "      <td>0.0021</td>\n",
              "    </tr>\n",
              "    <tr>\n",
              "      <th>3</th>\n",
              "      <td>0.79231</td>\n",
              "      <td>0.20714</td>\n",
              "      <td>0.601470</td>\n",
              "      <td>0.68766</td>\n",
              "      <td>1</td>\n",
              "      <td>2</td>\n",
              "      <td>3</td>\n",
              "      <td>1</td>\n",
              "      <td>0.349490</td>\n",
              "      <td>0.0076</td>\n",
              "    </tr>\n",
              "    <tr>\n",
              "      <th>4</th>\n",
              "      <td>0.62581</td>\n",
              "      <td>0.20463</td>\n",
              "      <td>0.384060</td>\n",
              "      <td>0.60798</td>\n",
              "      <td>3</td>\n",
              "      <td>3</td>\n",
              "      <td>2</td>\n",
              "      <td>3</td>\n",
              "      <td>0.120030</td>\n",
              "      <td>0.2320</td>\n",
              "    </tr>\n",
              "  </tbody>\n",
              "</table>\n",
              "</div>"
            ],
            "text/plain": [
              "      dsr1     dsr2     dr1r2      Pr2  ...  mr1D  mr2D     Zr1r2  pr1min\n",
              "0  0.16891  0.99012  0.969010  0.54219  ...     1     3  0.118850  0.0956\n",
              "1  0.69591  0.64120  0.042443  0.88995  ...     1     1  0.164750  0.0010\n",
              "2  0.70607  0.72167  0.116860  0.99005  ...     2     1  0.005106  0.0021\n",
              "3  0.79231  0.20714  0.601470  0.68766  ...     3     1  0.349490  0.0076\n",
              "4  0.62581  0.20463  0.384060  0.60798  ...     2     3  0.120030  0.2320\n",
              "\n",
              "[5 rows x 10 columns]"
            ]
          },
          "metadata": {
            "tags": []
          },
          "execution_count": 3
        }
      ]
    },
    {
      "cell_type": "code",
      "metadata": {
        "id": "-H5v-8iveoyq"
      },
      "source": [
        "#uname = \"darkshadow013\"\n",
        "!git config --global user.email 'shivendra12.07.98@gmail.com'\n",
        "!git config --global user.name 'shivendr7'"
      ],
      "execution_count": 4,
      "outputs": []
    },
    {
      "cell_type": "code",
      "metadata": {
        "colab": {
          "base_uri": "https://localhost:8080/"
        },
        "id": "IFaumCCaewnV",
        "outputId": "28fd0e72-ebd3-44c6-9933-11b580a863da"
      },
      "source": [
        "#Make a clone of github REPO\n",
        "!git clone https://shivendr7:<github_password>@github.com/shivendr7/VFD_NOMA"
      ],
      "execution_count": 5,
      "outputs": [
        {
          "output_type": "stream",
          "text": [
            "Cloning into 'VFD_NOMA'...\n",
            "remote: Enumerating objects: 9, done.\u001b[K\n",
            "remote: Counting objects: 100% (9/9), done.\u001b[K\n",
            "remote: Compressing objects: 100% (8/8), done.\u001b[K\n",
            "remote: Total 9 (delta 1), reused 2 (delta 0), pack-reused 0\u001b[K\n",
            "Unpacking objects: 100% (9/9), done.\n"
          ],
          "name": "stdout"
        }
      ]
    },
    {
      "cell_type": "code",
      "metadata": {
        "id": "NpZCPzrye9ON"
      },
      "source": [
        "#Copy file from either google drive after mounting using file browser\n",
        "!cp drive/MyDrive/Data_P1_100000samples.csv /content/VFD_NOMA"
      ],
      "execution_count": 6,
      "outputs": []
    },
    {
      "cell_type": "code",
      "metadata": {
        "colab": {
          "base_uri": "https://localhost:8080/"
        },
        "id": "DsGXInAWfH9s",
        "outputId": "d867e7e5-5a46-4e49-9986-c2fb8d7c98c9"
      },
      "source": [
        "%cd VFD_NOMA"
      ],
      "execution_count": 7,
      "outputs": [
        {
          "output_type": "stream",
          "text": [
            "/content/VFD_NOMA\n"
          ],
          "name": "stdout"
        }
      ]
    },
    {
      "cell_type": "code",
      "metadata": {
        "colab": {
          "base_uri": "https://localhost:8080/"
        },
        "id": "R-xtnWtpfHyk",
        "outputId": "62337721-9499-49b6-b448-3e5c9e540259"
      },
      "source": [
        "!git add Data_P1_100000samples.csv\n",
        "!git commit -m 'commit msg'\n",
        "!git push"
      ],
      "execution_count": 8,
      "outputs": [
        {
          "output_type": "stream",
          "text": [
            "[main 32fe7af] commit msg\n",
            " 1 file changed, 100001 insertions(+)\n",
            " create mode 100644 Data_P1_100000samples.csv\n",
            "Counting objects: 3, done.\n",
            "Delta compression using up to 2 threads.\n",
            "Compressing objects: 100% (3/3), done.\n",
            "Writing objects: 100% (3/3), 1.93 MiB | 2.37 MiB/s, done.\n",
            "Total 3 (delta 1), reused 0 (delta 0)\n",
            "remote: Resolving deltas: 100% (1/1), completed with 1 local object.\u001b[K\n",
            "To https://github.com/shivendr7/VFD_NOMA\n",
            "   25ee8b5..32fe7af  main -> main\n"
          ],
          "name": "stdout"
        }
      ]
    }
  ]
}